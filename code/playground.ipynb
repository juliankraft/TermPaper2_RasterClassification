{
 "cells": [
  {
   "cell_type": "markdown",
   "metadata": {},
   "source": [
    "conda create command for the project:\n",
    "```bash\n",
    "conda create -n sa2 xarray dask netcdf4 zarr rioxarray matplotlib jupyter pandas numpy seaborn tensorboard pytorch torchvision torchaudio pytorch-cuda=11.7 pytorch-lightning -c conda-forge -c pytorch -c nvidia\n",
    "```\n",
    "added packages:\n",
    "- rioxarray"
   ]
  },
  {
   "cell_type": "code",
   "execution_count": null,
   "metadata": {},
   "outputs": [],
   "source": [
    "# dictionary to recode QA categories to integers\n",
    "category_dict = {\n",
    "    \"Baustelle\" : 0,\n",
    "    \"Gebäude\" : 1,\n",
    "    \"Gebäudeverzerrung\" : 2,\n",
    "    \"Grünanlagen\" : 3,\n",
    "    \"Strasse/Asphalt\" : 4,\n",
    "    \"Wald\" : 5,\n",
    "    \"Wasserbecken\" : 6,\n",
    "    \"Weg\" : 7,\n",
    "    \"Wiese/Weide\" : 8,\n",
    "    \"versiegelte Objekte\" : 9\n",
    "}\n",
    "\n",
    "category_dict_reversed = {\n",
    "    0: \"ConstructionSite\",\n",
    "    1: \"Building\",\n",
    "    2: \"BuildingDistortion\",\n",
    "    3: \"GreenAreas\",\n",
    "    4: \"RoadAsphalt\",\n",
    "    5: \"Forest\",\n",
    "    6: \"WaterBasin\",\n",
    "    7: \"Path\",\n",
    "    8: \"MeadowPasture\",\n",
    "    9: \"SealedObjects\"\n",
    "}"
   ]
  },
  {
   "cell_type": "code",
   "execution_count": 1,
   "metadata": {},
   "outputs": [
    {
     "name": "stderr",
     "output_type": "stream",
     "text": [
      "c:\\Users\\kraft\\.conda\\envs\\sa2\\Lib\\site-packages\\pyproj\\crs\\_cf1x8.py:515: UserWarning: angle from rectified to skew grid parameter lost in conversion to CF\n",
      "  warnings.warn(\n"
     ]
    }
   ],
   "source": [
    "import rioxarray as rxr\n",
    "\n",
    "ds = rxr.open_rasterio('../data/CombinedData/CombinedData.tif')\n"
   ]
  },
  {
   "cell_type": "code",
   "execution_count": 2,
   "metadata": {},
   "outputs": [
    {
     "data": {
      "text/plain": [
       "array([[-9999.,     0.,     0., ...,     0.,     0.,     0.],\n",
       "       [-9999.,     0.,     0., ...,     0.,     0.,     0.],\n",
       "       [-9999.,     0.,     0., ...,     0.,     0.,     0.],\n",
       "       ...,\n",
       "       [-9999.,     0.,     0., ...,     0.,     0.,     0.],\n",
       "       [-9999.,     0.,     0., ...,     0.,     0.,     0.],\n",
       "       [-9999.,     0.,     0., ...,     0.,     0.,     0.]],\n",
       "      dtype=float32)"
      ]
     },
     "execution_count": 2,
     "metadata": {},
     "output_type": "execute_result"
    }
   ],
   "source": [
    "ds.isel(band=4).values"
   ]
  },
  {
   "cell_type": "code",
   "execution_count": 5,
   "metadata": {},
   "outputs": [
    {
     "data": {
      "text/plain": [
       "array([[-9999., -9999., -9999., ..., -9999., -9999., -9999.],\n",
       "       [-9999., -9999., -9999., ..., -9999., -9999., -9999.],\n",
       "       [-9999., -9999., -9999., ..., -9999., -9999., -9999.],\n",
       "       ...,\n",
       "       [-9999., -9999., -9999., ..., -9999., -9999., -9999.],\n",
       "       [-9999., -9999., -9999., ..., -9999., -9999., -9999.],\n",
       "       [-9999., -9999., -9999., ..., -9999., -9999., -9999.]],\n",
       "      dtype=float32)"
      ]
     },
     "execution_count": 5,
     "metadata": {},
     "output_type": "execute_result"
    }
   ],
   "source": [
    "ds.isel(band=5).values"
   ]
  },
  {
   "cell_type": "code",
   "execution_count": 3,
   "metadata": {},
   "outputs": [
    {
     "name": "stdout",
     "output_type": "stream",
     "text": [
      "0\n",
      "1\n",
      "2\n",
      "3\n",
      "4\n",
      "5\n"
     ]
    }
   ],
   "source": [
    "import numpy as np\n",
    "from collections import Counter\n",
    "\n",
    "value_counts_storage = []\n",
    "\n",
    "for i in range(6):\n",
    "    print(i)\n",
    "\n",
    "    band_values = ds.isel(band=i).values.flatten()\n",
    "\n",
    "    value_counts = Counter(band_values)\n",
    "\n",
    "    value_counts_dict = dict(value_counts)\n",
    "\n",
    "    value_counts_storage.append(value_counts_dict)\n"
   ]
  },
  {
   "cell_type": "code",
   "execution_count": 9,
   "metadata": {},
   "outputs": [
    {
     "data": {
      "text/plain": [
       "{np.float32(-9999.0): 41651,\n",
       " np.float32(0.0): 1295283069,\n",
       " np.float32(12.0): 3390771,\n",
       " np.float32(11.0): 3579067,\n",
       " np.float32(10.0): 3190222,\n",
       " np.float32(9.0): 3089148,\n",
       " np.float32(7.0): 2020267,\n",
       " np.float32(8.0): 2006284,\n",
       " np.float32(5.0): 2161978,\n",
       " np.float32(6.0): 2093878,\n",
       " np.float32(4.0): 1945900,\n",
       " np.float32(3.0): 1844823,\n",
       " np.float32(2.0): 2310323,\n",
       " np.float32(1.0): 2169184}"
      ]
     },
     "execution_count": 9,
     "metadata": {},
     "output_type": "execute_result"
    }
   ],
   "source": [
    "value_counts_storage[4]"
   ]
  },
  {
   "cell_type": "code",
   "execution_count": 10,
   "metadata": {},
   "outputs": [
    {
     "data": {
      "text/plain": [
       "{np.float32(-9999.0): 1295324713,\n",
       " np.float32(5.0): 3484695,\n",
       " np.float32(3.0): 4037893,\n",
       " np.float32(4.0): 8039258,\n",
       " np.float32(7.0): 983629,\n",
       " np.float32(1.0): 7708461,\n",
       " np.float32(2.0): 546923,\n",
       " np.float32(9.0): 77312,\n",
       " np.float32(0.0): 142793,\n",
       " np.float32(6.0): 16049,\n",
       " np.float32(8.0): 4764839}"
      ]
     },
     "execution_count": 10,
     "metadata": {},
     "output_type": "execute_result"
    }
   ],
   "source": [
    "value_counts_storage[5]"
   ]
  }
 ],
 "metadata": {
  "kernelspec": {
   "display_name": "Python 3",
   "language": "python",
   "name": "python3"
  },
  "language_info": {
   "codemirror_mode": {
    "name": "ipython",
    "version": 3
   },
   "file_extension": ".py",
   "mimetype": "text/x-python",
   "name": "python",
   "nbconvert_exporter": "python",
   "pygments_lexer": "ipython3",
   "version": "3.12.7"
  }
 },
 "nbformat": 4,
 "nbformat_minor": 2
}
