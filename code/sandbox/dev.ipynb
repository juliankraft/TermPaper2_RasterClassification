{
 "cells": [
  {
   "cell_type": "code",
   "execution_count": null,
   "metadata": {},
   "outputs": [],
   "source": [
    "from dataloader import RSData\n",
    "import lightning as L"
   ]
  },
  {
   "cell_type": "code",
   "execution_count": null,
   "metadata": {},
   "outputs": [],
   "source": [
    "from torch.utils.data import DataLoader\n",
    "from os import PathLike\n",
    "from pathlib import Path\n",
    "\n",
    "from dataloader import AugmentorChain\n",
    "\n",
    "\n",
    "class RSDataModule(L.LightningDataModule):\n",
    "    def __init__(\n",
    "            self,\n",
    "            ds_path: str | PathLike,\n",
    "            train_area_ids: list[int],\n",
    "            valid_area_ids: list[int],\n",
    "            test_area_ids: list[int],\n",
    "            cutout_size: int,\n",
    "            batch_size: int,\n",
    "            augmentor_chain: AugmentorChain | None = None):\n",
    "\n",
    "        self.ds_path = Path(ds_path)\n",
    "        self.train_area_ids = train_area_ids\n",
    "        self.valid_area_ids = valid_area_ids\n",
    "        self.test_area_ids = test_area_ids\n",
    "        self.cutout_size = cutout_size\n",
    "        self.batch_size = batch_size\n",
    "        self.augmentor_chain = augmentor_chain\n",
    "\n",
    "        train_data = self.get_dataset(mode='init')\n",
    "        self.feature_stat_means = train_data.feature_stat_means\n",
    "        self.feature_stat_stds = train_data.feature_stat_stds\n",
    "\n",
    "        self.dataloader_args = {\n",
    "            'batch_size': self.batch_size\n",
    "        }\n",
    "\n",
    "    def get_dataset(self, mode: str) -> RSData:\n",
    "        if mode in ('train', 'init'):\n",
    "            mask_area_ids = self.train_area_ids\n",
    "            augmentor_chain = self.augmentor_chain\n",
    "        elif mode == 'train':\n",
    "            mask_area_ids = self.valid_area_ids\n",
    "            augmentor_chain = None\n",
    "        elif mode == 'train':\n",
    "            mask_area_ids = self.test_area_ids\n",
    "            augmentor_chain = None\n",
    "        elif mode == 'predict':\n",
    "            mask_area_ids = [0, 1, 2, 3, 4]\n",
    "            augmentor_chain = None\n",
    "        else:\n",
    "            raise ValueError(\n",
    "                f'`mode` must be one of \\'init\\', \\'train\\', \\'valid\\', \\'test\\', is \\'{mode}\\'.'\n",
    "            )\n",
    "\n",
    "        dataset = RSData(\n",
    "            ds_path=self.ds_path,\n",
    "            mask_area_ids=mask_area_ids,\n",
    "            cutout_size=self.cutout_size,\n",
    "            feature_stat_means=None if mode == 'init' else self.feature_stat_means,\n",
    "            feature_stat_stds=None if mode == 'init' else self.feature_stat_stds,\n",
    "            augmentor_chain=augmentor_chain\n",
    "        )\n",
    "\n",
    "        return dataset\n",
    "\n",
    "    def train_dataloader(self) -> DataLoader:\n",
    "        dataset = self.get_dataset(mode='train')\n",
    "        return DataLoader(\n",
    "            dataset,\n",
    "            shuffle=True,\n",
    "            **self.dataloader_args\n",
    "        )\n",
    "\n",
    "    def val_dataloader(self) -> DataLoader:\n",
    "        dataset = self.get_dataset(mode='valid')\n",
    "        return DataLoader(\n",
    "            dataset,\n",
    "            shuffle=False,\n",
    "            **self.dataloader_args\n",
    "        )\n",
    "\n",
    "    def test_dataloader(self) -> DataLoader:\n",
    "        dataset = self.get_dataset(mode='test')\n",
    "        return DataLoader(\n",
    "            dataset,\n",
    "            shuffle=False,\n",
    "            **self.dataloader_args\n",
    "        )\n",
    "\n",
    "    def predict_dataloader(self) -> DataLoader:\n",
    "        dataset = self.get_dataset(mode='predict')\n",
    "        return DataLoader(\n",
    "            dataset,\n",
    "            shuffle=False,\n",
    "            **self.dataloader_args\n",
    "        )\n"
   ]
  },
  {
   "cell_type": "code",
   "execution_count": null,
   "metadata": {},
   "outputs": [],
   "source": [
    "datamodule = RSDataModule(\n",
    "    ds_path='../data/Sample_CombinedData_32signed/combined.zarr',\n",
    "    train_area_ids=[1, 2],\n",
    "    valid_area_ids=[3],\n",
    "    test_area_ids=[4],\n",
    "    cutout_size=21,\n",
    "    batch_size=10,\n",
    ")"
   ]
  },
  {
   "cell_type": "code",
   "execution_count": null,
   "metadata": {},
   "outputs": [],
   "source": [
    "train_dl = datamodule.train_dataloader()"
   ]
  },
  {
   "cell_type": "code",
   "execution_count": null,
   "metadata": {},
   "outputs": [],
   "source": [
    "next(iter(train_dl))"
   ]
  },
  {
   "cell_type": "code",
   "execution_count": 1,
   "metadata": {},
   "outputs": [],
   "source": [
    "from src.augmentors import AugmentorChain"
   ]
  },
  {
   "cell_type": "code",
   "execution_count": 3,
   "metadata": {},
   "outputs": [
    {
     "data": {
      "text/plain": [
       "AugmentorChain(random_seed=1, augmentors=[PixelNoiseAugmentor(scale=1.0), FlipAugmentor()])"
      ]
     },
     "execution_count": 3,
     "metadata": {},
     "output_type": "execute_result"
    }
   ],
   "source": [
    "AugmentorChain.from_args('FlipAugmentor', PixelNoiseAugmentor={'scale': 1.0}, random_seed=1)"
   ]
  },
  {
   "cell_type": "code",
   "execution_count": null,
   "metadata": {},
   "outputs": [],
   "source": []
  }
 ],
 "metadata": {
  "kernelspec": {
   "display_name": "Python 3",
   "language": "python",
   "name": "python3"
  },
  "language_info": {
   "codemirror_mode": {
    "name": "ipython",
    "version": 3
   },
   "file_extension": ".py",
   "mimetype": "text/x-python",
   "name": "python",
   "nbconvert_exporter": "python",
   "pygments_lexer": "ipython3",
   "version": "3.12.8"
  }
 },
 "nbformat": 4,
 "nbformat_minor": 2
}
