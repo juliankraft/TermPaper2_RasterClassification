{
 "cells": [
  {
   "cell_type": "code",
   "execution_count": 5,
   "metadata": {},
   "outputs": [],
   "source": [
    "from torch.utils.data import Dataset, DataLoader\n",
    "import xarray as xr\n",
    "import numpy as np"
   ]
  },
  {
   "cell_type": "code",
   "execution_count": 7,
   "metadata": {},
   "outputs": [],
   "source": [
    "mask = np.array([[True, False], [False, True]])"
   ]
  },
  {
   "cell_type": "code",
   "execution_count": null,
   "metadata": {},
   "outputs": [],
   "source": [
    "class RSData(Dataset):\n",
    "    def __init__(self, ds_path: str, cutout):\n",
    "        super().__init__()\n",
    "\n",
    "        self.ds = xr.open_zarr(ds_path)\n",
    "\n",
    "        self.coords = np.argwhere((self.ds.mask > 0).values)\n",
    "\n",
    "    def __len__(self) -> int:\n",
    "        return len(self.coords)\n",
    "\n",
    "    def __getitem__(self, index: int):\n",
    "        x_i, y_i = self.coords[index]\n",
    "\n",
    "        ds_sel = self.ds.isel(x=x_i, y=y_i)\n",
    "\n",
    "        x = ds_sel['res']\n",
    "        y = ds_sel['label']\n"
   ]
  }
 ],
 "metadata": {
  "kernelspec": {
   "display_name": "machflow",
   "language": "python",
   "name": "python3"
  },
  "language_info": {
   "codemirror_mode": {
    "name": "ipython",
    "version": 3
   },
   "file_extension": ".py",
   "mimetype": "text/x-python",
   "name": "python",
   "nbconvert_exporter": "python",
   "pygments_lexer": "ipython3",
   "version": "3.10.14"
  }
 },
 "nbformat": 4,
 "nbformat_minor": 2
}
