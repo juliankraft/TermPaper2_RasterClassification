{
 "cells": [
  {
   "cell_type": "code",
   "execution_count": 2,
   "metadata": {},
   "outputs": [
    {
     "name": "stderr",
     "output_type": "stream",
     "text": [
      "/Users/kraftb/miniforge3/envs/machflow/lib/python3.10/site-packages/pyproj/crs/_cf1x8.py:514: UserWarning: angle from rectified to skew grid parameter lost in conversion to CF\n",
      "  warnings.warn(\n"
     ]
    },
    {
     "name": "stdout",
     "output_type": "stream",
     "text": [
      "[#########                               ] | 24% Completed | 163.07 s"
     ]
    },
    {
     "ename": "",
     "evalue": "",
     "output_type": "error",
     "traceback": [
      "\u001b[1;31mThe Kernel crashed while executing code in the current cell or a previous cell. \n",
      "\u001b[1;31mPlease review the code in the cell(s) to identify a possible cause of the failure. \n",
      "\u001b[1;31mClick <a href='https://aka.ms/vscodeJupyterKernelCrash'>here</a> for more info. \n",
      "\u001b[1;31mView Jupyter <a href='command:jupyter.viewOutput'>log</a> for further details."
     ]
    }
   ],
   "source": [
    "import xarray as xr\n",
    "import rioxarray as rxr\n",
    "from dask.diagnostics import ProgressBar\n",
    "\n",
    "da = rxr.open_rasterio('../data/CombinedData_32signed/CombinedData32signed.tif')\n",
    "\n",
    "ds = xr.Dataset(\n",
    "    {\n",
    "        'rs': da.sel(band=[1, 2, 3, 4]),\n",
    "        'label': da.sel(band=5),\n",
    "        'mask': da.sel(band=6),\n",
    "    }\n",
    ")\n",
    "\n",
    "ds = ds.transpose('band', 'x', 'y')\n",
    "\n",
    "category_dict_reversed = {\n",
    "    0: \"ConstructionSite\",\n",
    "    1: \"Building\",\n",
    "    2: \"BuildingDistortion\",\n",
    "    3: \"GreenAreas\",\n",
    "    4: \"RoadAsphalt\",\n",
    "    5: \"Forest\",\n",
    "    6: \"WaterBasin\",\n",
    "    7: \"Path\",\n",
    "    8: \"MeadowPasture\",\n",
    "    9: \"SealedObjects\"\n",
    "}\n",
    "\n",
    "# Dataset attributes\n",
    "ds.attrs = {'creator': 'Julian Kraft'}\n",
    "\n",
    "# Variable attributes\n",
    "ds['rs'].attrs.update({'source': 'SwissImage RS'})\n",
    "ds['label'].attrs.update({'classes': ', '.join([f'{k}={v}' for k, v in category_dict_reversed.items()])})\n",
    "\n",
    "ds['rs'] = ds.rs.chunk({'band': 4, 'x': 100, 'y': 100})\n",
    "ds['label'] = ds.label.chunk({'x': 100, 'y': 100})\n",
    "ds['mask'] = ds.mask.chunk({'x': -1, 'y': -1})\n",
    "\n",
    "\n",
    "encoding = {}\n",
    "\n",
    "for variable in ds.data_vars:\n",
    "    encoding[variable] = {'compressor': None}\n",
    "\n",
    "    if variable == 'rs':\n",
    "        ds[variable] = ds[variable].astype('int')\n",
    "\n",
    "    else:\n",
    "        ds[variable] = ds[variable].where(ds[variable] != -9999, -1).astype('int8')\n",
    "\n",
    "        if variable == 'mask':\n",
    "            chunks = [-1, -1]\n",
    "        elif variable == 'label':\n",
    "            chunks = [100, 100]\n",
    "\n",
    "with ProgressBar():\n",
    "    ds.to_zarr('../data/combined.zarr', encoding=encoding, mode='w')"
   ]
  },
  {
   "cell_type": "code",
   "execution_count": null,
   "metadata": {},
   "outputs": [
    {
     "data": {
      "text/plain": [
       "<xarray.backends.zarr.ZarrStore at 0x3076a0ec0>"
      ]
     },
     "execution_count": 72,
     "metadata": {},
     "output_type": "execute_result"
    }
   ],
   "source": [
    "ds = xr.open_zarr('../data/combined.zarr')"
   ]
  }
 ],
 "metadata": {
  "kernelspec": {
   "display_name": "machflow",
   "language": "python",
   "name": "python3"
  },
  "language_info": {
   "codemirror_mode": {
    "name": "ipython",
    "version": 3
   },
   "file_extension": ".py",
   "mimetype": "text/x-python",
   "name": "python",
   "nbconvert_exporter": "python",
   "pygments_lexer": "ipython3",
   "version": "3.10.14"
  }
 },
 "nbformat": 4,
 "nbformat_minor": 2
}
